{
 "cells": [
  {
   "cell_type": "code",
   "execution_count": null,
   "metadata": {},
   "outputs": [],
   "source": [
    "import requests, pandas, getpass\n",
    "\n",
    "api = 'https://api.earthref.org/v1/MagIC/{}'\n",
    "handle = input()\n",
    "password = getpass.getpass()"
   ]
  },
  {
   "cell_type": "markdown",
   "metadata": {},
   "source": [
    "### Create a Private Contribution and delete it\n",
    "If no errors are reported, this cell can be repeated without any side effects. If noone has also made a private contribution between repeated executions, the same contribution ID should be reused."
   ]
  },
  {
   "cell_type": "code",
   "execution_count": null,
   "metadata": {
    "tags": []
   },
   "outputs": [],
   "source": [
    "create_response = requests.post(api.format('private'), auth=(handle, password))\n",
    "print(create_response.request.method, create_response.request.url)\n",
    "if (create_response.status_code == 200):\n",
    "    contribution_id = create_response.json()['id']\n",
    "    print('Created private contribution with ID', contribution_id, '\\n')\n",
    "\n",
    "    delete_response = requests.delete(api.format('private'), params={'id': contribution_id}, auth=(handle, password))\n",
    "    print(delete_response.request.method, delete_response.request.url)\n",
    "    if (delete_response.status_code == 200):\n",
    "        print('Deleted private contribution with ID', contribution_id, '\\n')\n",
    "    else:\n",
    "        print('Delete Private Contribution Error:', delete_response.json()['errors'][0]['message'], '\\n')\n",
    "else:\n",
    "    print('Create Private Contribution Error:', create_response.json()['errors'][0]['message'], '\\n')"
   ]
  },
  {
   "cell_type": "markdown",
   "metadata": {},
   "source": [
    "### Download a Public Contribution and create a Private Contribution to upload it to"
   ]
  },
  {
   "cell_type": "code",
   "execution_count": null,
   "metadata": {
    "tags": []
   },
   "outputs": [],
   "source": [
    "contribution_id = 16901\n",
    "\n",
    "response = requests.get(api.format('data'), params={'id': contribution_id})\n",
    "print(response.request.method, response.request.url)\n",
    "if (response.status_code == 200):\n",
    "    contribution_file = 'downloads/magic_contribution_{}'.format(contribution_id)\n",
    "    open(contribution_file, 'w').write(response.text)\n",
    "    print('Retrieved contribution data with ID', contribution_id, '\\n')\n",
    "    \n",
    "    create_response = requests.post(api.format('private'), auth=(handle, password))\n",
    "    print(create_response.request.method, create_response.request.url)\n",
    "    if (create_response.status_code == 200):\n",
    "        new_contribution_id = create_response.json()['id']\n",
    "        print('Created private contribution with ID', new_contribution_id, '\\n')\n",
    "        \n",
    "        with open(contribution_file, 'rb') as f:\n",
    "            upload_response = requests.put(api.format('private'), \n",
    "                params={'id': new_contribution_id}, \n",
    "                auth=(handle, password), \n",
    "                headers={'Content-Type': 'text/plain'}, \n",
    "                data=f\n",
    "            )\n",
    "\n",
    "        print(upload_response.request.method, upload_response.request.url)\n",
    "        if (upload_response.status_code == 200):\n",
    "            print('Uploaded a text file to private contribution with ID', contribution_id, '\\n')\n",
    "        else:\n",
    "            print('Upload Private Contribution Error:', upload_response.json()['errors'][0]['message'], '\\n')\n",
    "    else:\n",
    "        print('Create Private Contribution Error:', create_response.json()['errors'][0]['message'], '\\n')\n",
    "else:\n",
    "    print('Retrieve Public Contribution Error:', response.json()['errors'][0]['message'], '\\n')"
   ]
  }
 ],
 "metadata": {
  "kernelspec": {
   "display_name": "Python 3.8.5 64-bit ('.env': venv)",
   "language": "python",
   "name": "python_defaultSpec_1598585363520"
  },
  "language_info": {
   "codemirror_mode": {
    "name": "ipython",
    "version": 3
   },
   "file_extension": ".py",
   "mimetype": "text/x-python",
   "name": "python",
   "nbconvert_exporter": "python",
   "pygments_lexer": "ipython3",
   "version": "3.8.5-final"
  }
 },
 "nbformat": 4,
 "nbformat_minor": 4
}