{
 "cells": [
  {
   "cell_type": "code",
   "execution_count": 1,
   "source": [
    "import requests, pandas, getpass\r\n",
    "\r\n",
    "api = 'https://api.earthref.org/v1/MagIC/{}'\r\n",
    "username = input()\r\n",
    "password = getpass.getpass()"
   ],
   "outputs": [],
   "metadata": {}
  },
  {
   "cell_type": "markdown",
   "source": [
    "### Create a Private Contribution and delete it\n",
    "If no errors are reported, this cell can be repeated without any side effects. If noone has also made a private contribution between repeated executions, the same contribution ID should be reused."
   ],
   "metadata": {}
  },
  {
   "cell_type": "code",
   "execution_count": 4,
   "source": [
    "create_response = requests.post(api.format('private'), auth=(username, password))\r\n",
    "print(create_response.request.method, create_response.request.url)\r\n",
    "if (create_response.status_code == 200):\r\n",
    "    contribution_id = create_response.json()['id']\r\n",
    "    print('Created private contribution with ID', contribution_id, '\\n')\r\n",
    "\r\n",
    "    delete_response = requests.delete(api.format('private'), params={'id': contribution_id}, auth=(username, password))\r\n",
    "    print(delete_response.request.method, delete_response.request.url)\r\n",
    "    if (delete_response.status_code == 200):\r\n",
    "        print('Deleted private contribution with ID', contribution_id, '\\n')\r\n",
    "    else:\r\n",
    "        print('Delete Private Contribution Error:', delete_response.json()['errors'][0]['message'], '\\n')\r\n",
    "else:\r\n",
    "    print('Create Private Contribution Error:', create_response.json()['errors'][0]['message'], '\\n')"
   ],
   "outputs": [
    {
     "output_type": "stream",
     "name": "stdout",
     "text": [
      "POST http://localhost:3200/v1/MagIC/private\n",
      "Created private contribution with ID 19235 \n",
      "\n",
      "DELETE http://localhost:3200/v1/MagIC/private?id=19235\n",
      "Deleted private contribution with ID 19235 \n",
      "\n"
     ]
    }
   ],
   "metadata": {
    "tags": []
   }
  },
  {
   "cell_type": "markdown",
   "source": [
    "### Validate a Private Contribution and Mark It As Valid If There Are No Errors"
   ],
   "metadata": {}
  },
  {
   "cell_type": "code",
   "execution_count": 21,
   "source": [
    "create_response = requests.get(api.format('private/validate'), params={'id': 17113}, auth=(username, password))\r\n",
    "print(create_response.request.method, create_response.request.url)\r\n",
    "print(create_response.text)"
   ],
   "outputs": [
    {
     "output_type": "stream",
     "name": "stdout",
     "text": [
      "GET http://localhost:3200/v1/MagIC/private/validate?id=17113\n",
      "{\n",
      "  \"errors\": {\n",
      "    \"contribution\": {\n",
      "      \"reference\": {\n",
      "        \"The contribution table is missing required column \\\"reference\\\".\": {\n",
      "          \"1\": true\n",
      "        }\n",
      "      }\n",
      "    },\n",
      "    \"specimens\": {\n",
      "      \"specimen\": {\n",
      "        \"The specimens table is missing required column \\\"specimen\\\".\": {\n",
      "          \"1\": true\n",
      "        }\n",
      "      },\n",
      "      \"sample\": {\n",
      "        \"The specimens table is missing required column \\\"sample\\\".\": {\n",
      "          \"1\": true\n",
      "        }\n",
      "      },\n",
      "      \"method_codes\": {\n",
      "        \"The specimens table is missing required column \\\"method_codes\\\".\": {\n",
      "          \"1\": true\n",
      "        }\n",
      "      },\n",
      "      \"citations\": {\n",
      "        \"The specimens table is missing required column \\\"citations\\\".\": {\n",
      "          \"1\": true\n",
      "        }\n",
      "      }\n",
      "    }\n",
      "  },\n",
      "  \"warnings\": {}\n",
      "}\n"
     ]
    }
   ],
   "metadata": {
    "tags": []
   }
  },
  {
   "cell_type": "code",
   "execution_count": null,
   "source": [
    "### Download a Public Contribution and create a Private Contribution to upload it to"
   ],
   "outputs": [],
   "metadata": {}
  },
  {
   "cell_type": "code",
   "execution_count": null,
   "source": [
    "contribution_id = 16901\r\n",
    "\r\n",
    "response = requests.get(api.format('data'), params={'id': contribution_id})\r\n",
    "print(response.request.method, response.request.url)\r\n",
    "if (response.status_code == 200):\r\n",
    "    contribution_file = 'downloads/magic_contribution_{}.txt'.format(contribution_id)\r\n",
    "    open(contribution_file, 'w').write(response.text)\r\n",
    "    print('Retrieved contribution data with ID', contribution_id, '\\n')\r\n",
    "    \r\n",
    "    create_response = requests.post(api.format('private'), auth=(username, password))\r\n",
    "    print(create_response.request.method, create_response.request.url)\r\n",
    "    if (create_response.status_code == 200):\r\n",
    "        new_contribution_id = create_response.json()['id']\r\n",
    "        print('Created private contribution with ID', new_contribution_id, '\\n')\r\n",
    "        \r\n",
    "        with open(contribution_file, 'rb') as f:\r\n",
    "            upload_response = requests.put(api.format('private'), \r\n",
    "                params={'id': new_contribution_id}, \r\n",
    "                auth=(username, password), \r\n",
    "                headers={'Content-Type': 'text/plain'}, \r\n",
    "                data=f\r\n",
    "            )\r\n",
    "\r\n",
    "        print(upload_response.request.method, upload_response.request.url)\r\n",
    "        if (upload_response.status_code == 200):\r\n",
    "            print('Uploaded a text file to private contribution with ID', contribution_id, '\\n')\r\n",
    "        else:\r\n",
    "            print('Upload Private Contribution Error:', upload_response.json()['errors'][0]['message'], '\\n')\r\n",
    "    else:\r\n",
    "        print('Create Private Contribution Error:', create_response.json()['errors'][0]['message'], '\\n')\r\n",
    "else:\r\n",
    "    print('Retrieve Public Contribution Error:', response.json()['errors'][0]['message'], '\\n')"
   ],
   "outputs": [],
   "metadata": {
    "tags": []
   }
  }
 ],
 "metadata": {
  "kernelspec": {
   "name": "python3",
   "display_name": "Python 3.9.0 64-bit ('.venv': venv)"
  },
  "language_info": {
   "codemirror_mode": {
    "name": "ipython",
    "version": 3
   },
   "file_extension": ".py",
   "mimetype": "text/x-python",
   "name": "python",
   "nbconvert_exporter": "python",
   "pygments_lexer": "ipython3",
   "version": "3.9.0"
  },
  "metadata": {
   "interpreter": {
    "hash": "825561cab2e1043e3ca856db8664ccc1d7f805760652b1c694ee2a6294175e3a"
   }
  },
  "interpreter": {
   "hash": "825561cab2e1043e3ca856db8664ccc1d7f805760652b1c694ee2a6294175e3a"
  }
 },
 "nbformat": 4,
 "nbformat_minor": 4
}