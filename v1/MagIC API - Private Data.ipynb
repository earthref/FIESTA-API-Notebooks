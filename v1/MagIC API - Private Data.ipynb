{
 "cells": [
  {
   "cell_type": "code",
   "execution_count": 1,
   "metadata": {},
   "outputs": [],
   "source": [
    "import os, requests, pandas, getpass, dotenv\n",
    "\n",
    "dotenv.load_dotenv()\n",
    "\n",
    "api = os.getenv('MAGIC_API') or 'https://api.earthref.org/v1/MagIC/{}'\n",
    "print(api)\n",
    "\n",
    "username = os.getenv('USER') or input()\n",
    "password = os.getenv('PASS') or getpass.getpass()"
   ]
  },
  {
   "cell_type": "markdown",
   "metadata": {},
   "source": [
    "### Create a Private Contribution and delete it\n",
    "If no errors are reported, this cell can be repeated without any side effects. If noone has also made a private contribution between repeated executions, the same contribution ID should be reused."
   ]
  },
  {
   "cell_type": "code",
   "execution_count": 5,
   "metadata": {
    "tags": []
   },
   "outputs": [
    {
     "name": "stdout",
     "output_type": "stream",
     "text": [
      "POST http://localhost:3200/v1/MagIC/private\n",
      "Created private contribution with ID 19470 \n",
      "\n",
      "DELETE http://localhost:3200/v1/MagIC/private?id=19470\n",
      "Deleted private contribution with ID 19470 \n",
      "\n"
     ]
    }
   ],
   "source": [
    "create_response = requests.post(api.format('private'), auth=(username, password))\n",
    "print(create_response.request.method, create_response.request.url)\n",
    "if (create_response.status_code == 201):\n",
    "    contribution_id = create_response.json()['id']\n",
    "    print('Created private contribution with ID', contribution_id, '\\n')\n",
    "\n",
    "    delete_response = requests.delete(api.format('private'), params={'id': contribution_id}, auth=(username, password))\n",
    "    print(delete_response.request.method, delete_response.request.url)\n",
    "    if (delete_response.status_code == 200):\n",
    "        print('Deleted private contribution with ID', contribution_id, '\\n')\n",
    "    else:\n",
    "        print('Delete Private Contribution Error:', delete_response.json()['errors'][0]['message'], '\\n')\n",
    "else:\n",
    "    print('Create Private Contribution Error:', create_response.json()['errors'][0]['message'], '\\n')"
   ]
  },
  {
   "cell_type": "markdown",
   "metadata": {},
   "source": [
    "### Validate a Private Contribution and mark it as valid if there are no errors\n",
    "The contribution ID should be in your private workspace or it will not be found."
   ]
  },
  {
   "cell_type": "code",
   "execution_count": 7,
   "metadata": {},
   "outputs": [
    {
     "name": "stdout",
     "output_type": "stream",
     "text": [
      "PUT http://localhost:3200/v1/MagIC/private/validate?id=19470\n",
      "A private contribution with ID 19470 could not be found in your private workspace for validation\n",
      "\n"
     ]
    }
   ],
   "source": [
    "contribution_id = 19470\n",
    "response = requests.put(api.format('private/validate'), params={'id': contribution_id}, auth=(username, password))\n",
    "print(response.request.method, response.request.url)\n",
    "if (response.status_code == 200):\n",
    "    validation_results = response.json()['validation']\n",
    "    print('Validated contribution with ID', contribution_id, '\\n', len(validation_results['errors']))\n",
    "elif (response.status_code == 204):\n",
    "    print('A private contribution with ID', contribution_id, 'could not be found in your private workspace for validation\\n')\n",
    "else:\n",
    "    print('Error Validating a Private Contribution:', response.json(), '\\n')"
   ]
  },
  {
   "cell_type": "markdown",
   "metadata": {},
   "source": [
    "### Download a Public Contribution and create a Private Contribution to upload it to"
   ]
  },
  {
   "cell_type": "code",
   "execution_count": 10,
   "metadata": {
    "tags": []
   },
   "outputs": [
    {
     "name": "stdout",
     "output_type": "stream",
     "text": [
      "GET http://localhost:3200/v1/MagIC/data?id=16901\n",
      "Retrieved contribution data with ID 16901 \n",
      "\n",
      "POST http://localhost:3200/v1/MagIC/private\n",
      "Created private contribution with ID 19470 \n",
      "\n",
      "PUT http://localhost:3200/v1/MagIC/private?id=19470\n",
      "Upload Private Contribution Error: must be object \n",
      "\n"
     ]
    }
   ],
   "source": [
    "contribution_id = 16901\n",
    "\n",
    "response = requests.get(api.format('data'), params={'id': contribution_id})\n",
    "print(response.request.method, response.request.url)\n",
    "if (response.status_code == 200):\n",
    "    contribution_file = 'downloads/magic_contribution_{}.txt'.format(contribution_id)\n",
    "    open(contribution_file, 'w').write(response.text)\n",
    "    print('Retrieved contribution data with ID', contribution_id, '\\n')\n",
    "    \n",
    "    create_response = requests.post(api.format('private'), auth=(username, password))\n",
    "    print(create_response.request.method, create_response.request.url)\n",
    "    if (create_response.status_code == 201):\n",
    "        new_contribution_id = create_response.json()['id']\n",
    "        print('Created private contribution with ID', new_contribution_id, '\\n')\n",
    "        \n",
    "        with open(contribution_file, 'rb') as f:\n",
    "            upload_response = requests.put(api.format('private'), \n",
    "                params={'id': new_contribution_id}, \n",
    "                auth=(username, password), \n",
    "                headers={'Content-Type': 'text/plain'}, \n",
    "                data=f\n",
    "            )\n",
    "\n",
    "        print(upload_response.request.method, upload_response.request.url)\n",
    "        if (upload_response.status_code == 202):\n",
    "            print('Uploaded a text file to private contribution with ID', contribution_id, '\\n')\n",
    "        else:\n",
    "            print('Upload Private Contribution Error:', upload_response.json()['errors'][0]['message'], '\\n')\n",
    "    else:\n",
    "        print('Create Private Contribution Error:', create_response.json()['errors'][0]['message'], '\\n')\n",
    "else:\n",
    "    print('Retrieve Public Contribution Error:', response.json()['errors'][0]['message'], '\\n')"
   ]
  }
 ],
 "metadata": {
  "interpreter": {
   "hash": "825561cab2e1043e3ca856db8664ccc1d7f805760652b1c694ee2a6294175e3a"
  },
  "kernelspec": {
   "display_name": "Python 3.9.0 64-bit ('.venv': venv)",
   "name": "python3"
  },
  "language_info": {
   "codemirror_mode": {
    "name": "ipython",
    "version": 3
   },
   "file_extension": ".py",
   "mimetype": "text/x-python",
   "name": "python",
   "nbconvert_exporter": "python",
   "pygments_lexer": "ipython3",
   "version": "3.9.0"
  },
  "metadata": {
   "interpreter": {
    "hash": "825561cab2e1043e3ca856db8664ccc1d7f805760652b1c694ee2a6294175e3a"
   }
  }
 },
 "nbformat": 4,
 "nbformat_minor": 4
}
