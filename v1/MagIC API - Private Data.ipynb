{
 "cells": [
  {
   "cell_type": "code",
   "execution_count": 1,
   "source": [
    "import requests, pandas, getpass\r\n",
    "\r\n",
    "api = 'https://api.earthref.org/v1/MagIC/{}'\r\n",
    "username = input()\r\n",
    "password = getpass.getpass()"
   ],
   "outputs": [],
   "metadata": {}
  },
  {
   "cell_type": "markdown",
   "source": [
    "### Create a Private Contribution and delete it\n",
    "If no errors are reported, this cell can be repeated without any side effects. If noone has also made a private contribution between repeated executions, the same contribution ID should be reused."
   ],
   "metadata": {}
  },
  {
   "cell_type": "code",
   "execution_count": 4,
   "source": [
    "create_response = requests.post(api.format('private'), auth=(username, password))\r\n",
    "print(create_response.request.method, create_response.request.url)\r\n",
    "if (create_response.status_code == 200):\r\n",
    "    contribution_id = create_response.json()['id']\r\n",
    "    print('Created private contribution with ID', contribution_id, '\\n')\r\n",
    "\r\n",
    "    delete_response = requests.delete(api.format('private'), params={'id': contribution_id}, auth=(username, password))\r\n",
    "    print(delete_response.request.method, delete_response.request.url)\r\n",
    "    if (delete_response.status_code == 200):\r\n",
    "        print('Deleted private contribution with ID', contribution_id, '\\n')\r\n",
    "    else:\r\n",
    "        print('Delete Private Contribution Error:', delete_response.json()['errors'][0]['message'], '\\n')\r\n",
    "else:\r\n",
    "    print('Create Private Contribution Error:', create_response.json()['errors'][0]['message'], '\\n')"
   ],
   "outputs": [
    {
     "output_type": "stream",
     "name": "stdout",
     "text": [
      "POST http://localhost:3200/v1/MagIC/private\n",
      "Created private contribution with ID 19235 \n",
      "\n",
      "DELETE http://localhost:3200/v1/MagIC/private?id=19235\n",
      "Deleted private contribution with ID 19235 \n",
      "\n"
     ]
    }
   ],
   "metadata": {
    "tags": []
   }
  },
  {
   "cell_type": "markdown",
   "source": [
    "### Validate a Private Contribution and mark it as valid if there are no errors\r\n",
    "The contribution ID should be in your private workspace or it will not be found."
   ],
   "metadata": {}
  },
  {
   "cell_type": "code",
   "execution_count": 3,
   "source": [
    "contribution_id = 19271\r\n",
    "response = requests.post(api.format('private/validate'), params={'id': contribution_id}, auth=(username, password))\r\n",
    "print(response.request.method, response.request.url)\r\n",
    "if (response.status_code == 201):\r\n",
    "    validation_results = response.json()['validation']\r\n",
    "    print('Validated contribution with ID', contribution_id, ':\\n', validation_results)\r\n",
    "elif (response.status_code == 204):\r\n",
    "    print('A private contribution with ID', contribution_id, ' could not be found in your private workspace for validation\\n')\r\n",
    "else:\r\n",
    "    print('Error Validating a Private Contribution:', response.json(), '\\n')"
   ],
   "outputs": [
    {
     "output_type": "stream",
     "name": "stdout",
     "text": [
      "POST https://api.earthref.org/v1/MagIC/private/validate?id=19271\n",
      "Error Validating a Private Contribution: {'validation': {'errors': [{'table': 'locations', 'column': 'age', 'message': 'The locations table is missing required column \"age\" since columns \"age_low\",\"age_high\" are empty.', 'rows': [3, 12, 13]}, {'table': 'locations', 'column': 'age_low', 'message': 'The locations table is missing required column \"age_low\" since column \"age\" is empty.', 'rows': [3, 12, 13]}, {'table': 'locations', 'column': 'age_high', 'message': 'The locations table is missing required column \"age_high\" since column \"age\" is empty.', 'rows': [3, 12, 13]}, {'table': 'locations', 'column': 'age_unit', 'message': 'The locations table is missing required column \"age_unit\".', 'rows': [3, 12, 13]}, {'table': 'sites', 'column': 'method_codes', 'message': 'The sites table column \"method_codes\" value \"IE-BICEP\" is an unknown method code.', 'rows': [1, 2, 3, 4, 5, 6, 7, 8, 9, 10, 11, 12, 13, 14, 15, 16, 17, 18, 19, 20, 21, 22, 23, 24, 25, 26, 27, 28, 29, 30]}, {'table': 'sites', 'column': 'lat', 'message': 'The sites table is missing required column \"lat\".', 'rows': [17, 18, 19, 20, 21, 22, 23, 28, 29]}, {'table': 'sites', 'column': 'lon', 'message': 'The sites table is missing required column \"lon\".', 'rows': [17, 18, 19, 20, 21, 22, 23, 28, 29]}, {'table': 'sites', 'column': 'age', 'message': 'The sites table is missing required column \"age\" since columns \"age_low\",\"age_high\" are empty.', 'rows': [17, 18, 19, 20, 21, 22, 23, 28, 29]}, {'table': 'sites', 'column': 'age_low', 'message': 'The sites table is missing required column \"age_low\" since column \"age\" is empty.', 'rows': [17, 18, 19, 20, 21, 22, 23, 28, 29]}, {'table': 'sites', 'column': 'age_high', 'message': 'The sites table is missing required column \"age_high\" since column \"age\" is empty.', 'rows': [17, 18, 19, 20, 21, 22, 23, 28, 29]}, {'table': 'sites', 'column': 'age_unit', 'message': 'The sites table is missing required column \"age_unit\".', 'rows': [17, 18, 19, 20, 21, 22, 23, 28, 29]}, {'table': 'samples', 'column': 'method_codes', 'message': 'The samples table column \"method_codes\" value \"IE-BICEP\" is an unknown method code.', 'rows': [1, 2, 3, 4, 5, 6, 7, 8, 9, 10, 11, 12, 13, 14, 15, 16, 17, 18, 19, 20, 21, 22, 23, 24, 25, 26, 27, 28, 29, 30, 31, 32, 33, 34, 35, 36, 37, 38, 39, 40, 41, 42, 43, 44, 45, 46, 47, 48, 49, 50, 51, 52, 53, 54, 55, 56, 57, 58, 59, 60, 61, 62, 63, 64, 65, 66, 67, 68, 69, 70, 71, 72, 73, 74, 75, 76, 77, 78, 79, 80, 81, 82, 83, 84, 85, 86, 87, 88, 89, 90, 91, 92, 93, 94, 95, 96, 97, 98, 99, 100, 101, 102, 103, 104, 105, 106, 107, 108, 109, 110, 111, 112, 113]}, {'table': 'specimens', 'column': 'method_codes', 'message': 'The specimens table column \"method_codes\" value \"IE-BICEP\" is an unknown method code.', 'rows': [1, 2, 3, 4, 5, 6, 7, 8, 9, 10, 11, 12, 13, 14, 15, 16, 17, 18, 19, 20, 21, 22, 23, 24, 25, 26, 27, 28, 29, 30, 31, 32, 33, 34, 35, 36, 37, 38, 39, 40, 41, 42, 43, 44, 45, 46, 47, 48, 49, 50, 51, 52, 53, 54, 55, 56, 57, 58, 59, 60, 61, 62, 63, 64, 65, 66, 67, 68, 69, 70, 71, 72, 73, 74, 75, 76, 77, 78, 79, 80, 81, 82, 83, 84, 85, 86, 87, 88, 89, 90, 91, 92, 93, 94, 95, 96, 97, 98, 99, 100, 101, 102, 103, 104, 105, 106, 107, 108, 109, 110, 111, 112, 113, 114, 115, 116, 117, 118, 119, 120, 121, 122, 123, 124, 125, 126, 127, 128, 129, 130, 131, 132, 133, 134, 135, 136, 137, 138, 139, 140, 141, 142, 143, 144, 145, 146, 147, 148, 149, 150, 151, 152, 153, 154, 155, 156, 157, 158, 159, 160, 161, 162, 163, 164, 165, 166, 167, 168, 169, 170, 171, 172, 173, 174, 175, 176, 177, 178, 179, 180, 181, 182, 183, 184, 185, 186, 187, 188, 189, 190, 191, 192, 193, 194, 195, 196, 197, 198, 199, 200, 201, 202, 203, 204, 205, 206, 207, 208, 209, 210, 211, 212, 213, 214, 215, 216, 217, 218, 219, 220, 221, 222, 223, 224, 225, 226, 227, 228, 229, 230, 231, 232, 233, 234, 235, 236, 237, 238, 239, 240, 241, 242, 243, 244, 245, 246, 247, 248, 249, 250, 251, 252, 253, 254, 255, 256, 257, 258, 259, 260, 261, 262, 263, 264, 265, 266, 267, 268, 269, 270, 271, 272, 273, 274, 275, 276, 277, 278, 279, 280, 281, 282, 283, 284, 285, 286, 287, 288, 289, 290, 291, 292, 293, 294, 295, 296, 297, 298, 299, 300, 301, 302, 303, 304, 305, 306, 307, 308, 309, 310, 311, 312, 313, 314, 315, 316, 317, 318, 319, 320, 321, 322, 323, 324, 325, 326, 327, 328, 329, 330, 331, 332, 333, 334, 335, 336, 337, 338, 339, 340, 341, 342, 343, 344, 345, 346, 347, 348, 349, 350, 351, 352, 353, 354, 355, 356, 357, 358, 359, 360, 361, 362, 363, 364, 365, 366, 367, 368, 369, 370, 371, 372, 373, 374, 375, 376, 377, 378, 379, 380, 381, 382, 383, 384, 385, 386, 387, 388, 389, 390, 391, 392, 393, 394, 395, 396, 397, 398, 399, 400, 401, 402, 403, 404, 405, 406, 407, 408, 409, 410, 411, 412, 413, 414, 415, 416, 417, 418, 419, 420, 421, 422, 423, 424, 425, 426, 427, 428, 429, 430, 431, 432, 433, 434, 435, 436, 437, 438, 439, 440, 441, 442, 443, 444, 445, 446, 447, 448, 449, 450, 451, 452, 453, 454, 455, 456, 457, 458, 459, 460, 461, 462, 463, 464, 465, 466, 467, 468, 469, 470, 471, 472, 473, 474, 475, 476, 477, 478, 479, 480, 481, 482, 483, 484, 485, 486, 487, 488, 489, 490, 491, 492, 493, 494, 495, 496, 497, 498, 499, 500, 501, 502, 503, 504, 505, 506, 507, 508, 509, 510, 511, 512, 513, 514, 515, 516, 517, 518, 519, 520, 521, 522, 523, 524, 525, 526, 527, 528, 529, 530, 531, 532, 533, 534, 535, 536, 537, 538, 539, 540, 541, 542, 543, 544, 545, 546]}], 'warnings': []}} \n",
      "\n"
     ]
    }
   ],
   "metadata": {
    "tags": []
   }
  },
  {
   "cell_type": "markdown",
   "source": [
    "### Download a Public Contribution and create a Private Contribution to upload it to"
   ],
   "metadata": {}
  },
  {
   "cell_type": "code",
   "execution_count": null,
   "source": [
    "contribution_id = 16901\r\n",
    "\r\n",
    "response = requests.get(api.format('data'), params={'id': contribution_id})\r\n",
    "print(response.request.method, response.request.url)\r\n",
    "if (response.status_code == 200):\r\n",
    "    contribution_file = 'downloads/magic_contribution_{}.txt'.format(contribution_id)\r\n",
    "    open(contribution_file, 'w').write(response.text)\r\n",
    "    print('Retrieved contribution data with ID', contribution_id, '\\n')\r\n",
    "    \r\n",
    "    create_response = requests.post(api.format('private'), auth=(username, password))\r\n",
    "    print(create_response.request.method, create_response.request.url)\r\n",
    "    if (create_response.status_code == 200):\r\n",
    "        new_contribution_id = create_response.json()['id']\r\n",
    "        print('Created private contribution with ID', new_contribution_id, '\\n')\r\n",
    "        \r\n",
    "        with open(contribution_file, 'rb') as f:\r\n",
    "            upload_response = requests.put(api.format('private'), \r\n",
    "                params={'id': new_contribution_id}, \r\n",
    "                auth=(username, password), \r\n",
    "                headers={'Content-Type': 'text/plain'}, \r\n",
    "                data=f\r\n",
    "            )\r\n",
    "\r\n",
    "        print(upload_response.request.method, upload_response.request.url)\r\n",
    "        if (upload_response.status_code == 200):\r\n",
    "            print('Uploaded a text file to private contribution with ID', contribution_id, '\\n')\r\n",
    "        else:\r\n",
    "            print('Upload Private Contribution Error:', upload_response.json()['errors'][0]['message'], '\\n')\r\n",
    "    else:\r\n",
    "        print('Create Private Contribution Error:', create_response.json()['errors'][0]['message'], '\\n')\r\n",
    "else:\r\n",
    "    print('Retrieve Public Contribution Error:', response.json()['errors'][0]['message'], '\\n')"
   ],
   "outputs": [],
   "metadata": {
    "tags": []
   }
  }
 ],
 "metadata": {
  "kernelspec": {
   "name": "python3",
   "display_name": "Python 3.9.0 64-bit ('.venv': venv)"
  },
  "language_info": {
   "codemirror_mode": {
    "name": "ipython",
    "version": 3
   },
   "file_extension": ".py",
   "mimetype": "text/x-python",
   "name": "python",
   "nbconvert_exporter": "python",
   "pygments_lexer": "ipython3",
   "version": "3.9.0"
  },
  "metadata": {
   "interpreter": {
    "hash": "825561cab2e1043e3ca856db8664ccc1d7f805760652b1c694ee2a6294175e3a"
   }
  },
  "interpreter": {
   "hash": "825561cab2e1043e3ca856db8664ccc1d7f805760652b1c694ee2a6294175e3a"
  }
 },
 "nbformat": 4,
 "nbformat_minor": 4
}