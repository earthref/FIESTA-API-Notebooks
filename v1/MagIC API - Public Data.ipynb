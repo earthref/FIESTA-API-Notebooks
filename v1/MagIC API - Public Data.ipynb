{
 "cells": [
  {
   "cell_type": "code",
   "execution_count": null,
   "metadata": {},
   "outputs": [],
   "source": [
    "import requests, zipfile, io, re, pandas\n",
    "\n",
    "api = 'https://api.earthref.org/v1/MagIC/{}'\n",
    "api = 'http://localhost:3200/v1/MagIC/{}'"
   ]
  },
  {
   "cell_type": "markdown",
   "metadata": {},
   "source": [
    "### Given a MagIC contribution ID, download the MagIC contribution text file if it is public"
   ]
  },
  {
   "cell_type": "code",
   "execution_count": null,
   "metadata": {
    "tags": []
   },
   "outputs": [],
   "source": [
    "# Try to download the contribution text for an invalid ID\n",
    "response = requests.get(api.format('download'), params={'id': 'a'})\n",
    "print(response.request.method, response.request.url)\n",
    "print('Error:', response.json()['errors'][0]['message'], '\\n')\n",
    "\n",
    "# Try to download the contribution text for a could valid, but nonexistant, IDs\n",
    "response = requests.get(api.format('download'), params={'id': [1000, 1001]})\n",
    "print(response.request.method, response.request.url)\n",
    "if (response.status_code == 204):\n",
    "    print('Public contribution IDs 1000 and 1001 are not found in MagIC', '\\n')\n",
    "else:\n",
    "    print('Error:', response.json()['errors'][0]['message'], '\\n')\n",
    "\n",
    "# Download the contribution text for a valid ID and print the first 200 characters\n",
    "contribution_id = 16761\n",
    "response = requests.get(api.format('download'), params={'id': contribution_id})\n",
    "print(response.request.method, response.request.url)\n",
    "if (response.status_code == 200):\n",
    "    contribution_zip = zipfile.ZipFile(io.BytesIO(response.content))\n",
    "    contribution_text = io.TextIOWrapper(contribution_zip.open('{}/magic_contribution_{}.txt'.format(contribution_id, contribution_id))).read()\n",
    "    print(contribution_text[0:200], '\\n')\n",
    "elif (response.status_code == 204):\n",
    "    print('Public contribution ID = \\'{}\\' not found in MagIC'.format(contribution_id), '\\n')\n",
    "else:\n",
    "    print('Error:', response.json()['errors'][0]['message'], '\\n')\n",
    "\n",
    "# Get the ID for the latest public MagIC contribution\n",
    "latest_contribution_id_response = requests.get(api.format('search/contributions?n_max_rows=1'))\n",
    "print(latest_contribution_id_response.request.method, latest_contribution_id_response.request.url)\n",
    "if (latest_contribution_id_response.status_code == 200):\n",
    "    latest_contribution_id = latest_contribution_id_response.json()['results'][0]['id']\n",
    "elif (latest_contribution_id_response.status_code == 204):\n",
    "    print('Latest contribution ID not retrieved in MagIC', '\\n')\n",
    "else:\n",
    "    print('Error:', latest_contribution_id_response.json()['errors'][0]['message'], '\\n')\n",
    "\n",
    "# Get the contribution text for the ID and print the first 200 characters\n",
    "latest_contribution_response = requests.get(api.format('download'), params={'id': latest_contribution_id})\n",
    "print(latest_contribution_response.request.method, latest_contribution_response.request.url)\n",
    "if (latest_contribution_response.status_code == 200):\n",
    "    latest_contribution_zip = zipfile.ZipFile(io.BytesIO(latest_contribution_response.content))\n",
    "    latest_contribution_text = io.TextIOWrapper(latest_contribution_zip.open('{}/magic_contribution_{}.txt'.format(latest_contribution_id, latest_contribution_id))).read()\n",
    "    print(latest_contribution_text[0:200], '\\n')\n",
    "elif (latest_contribution_response.status_code == 204):\n",
    "    print('Public contribution ID = \\'{}\\' not found in MagIC'.format(latest_contribution_id), '\\n')\n",
    "else:\n",
    "    print('Error:', latest_contribution_response.json()['err'][0]['message'], '\\n')"
   ]
  },
  {
   "cell_type": "markdown",
   "metadata": {},
   "source": [
    "### Given a DOI, download the MagIC contribution text file for the latest public version(s)"
   ]
  },
  {
   "cell_type": "code",
   "execution_count": null,
   "metadata": {
    "tags": []
   },
   "outputs": [],
   "source": [
    "# Download and extract the latest contribution file to a local downloads folder\n",
    "reference_doi = '10.1016/J.PEPI.2017.05.009'\n",
    "response = requests.get(api.format('download'), params={'doi': reference_doi, 'n_max_contributions': 1})\n",
    "print(response.request.method, response.request.url)\n",
    "if (response.status_code == 200):\n",
    "    contribution_zip = zipfile.ZipFile(io.BytesIO(response.content))\n",
    "    for filename in contribution_zip.namelist():\n",
    "        if (re.match(r'^\\d+\\/magic_contribution_\\d+\\.txt', filename)):\n",
    "            contribution_zip.extract(filename, 'downloads')\n",
    "            print(filename, 'extracted to the downloads folder', '\\n')\n",
    "elif (response.status_code == 204):\n",
    "    print('Public contribution with a reference DOI = \\'{}\\' not found in MagIC'.format(reference_doi), '\\n')\n",
    "else:\n",
    "    print('Error:', response.json()['errors'][0]['message'], '\\n')\n",
    "\n",
    "# Download and extract the latest contribution file to a magic_contribution.txt file\n",
    "reference_doi = '10.1016/J.PEPI.2017.05.009'\n",
    "response = requests.get(api.format('download'), params={'doi': reference_doi, 'n_max_contributions': 1})\n",
    "print(response.request.method, response.request.url)\n",
    "if (response.status_code == 200):\n",
    "    contribution_zip = zipfile.ZipFile(io.BytesIO(response.content))\n",
    "    for filename in contribution_zip.namelist():\n",
    "        if (re.match(r'^\\d+\\/magic_contribution_\\d+\\.txt', filename)):\n",
    "            contribution_text = io.TextIOWrapper(contribution_zip.open(filename)).read()\n",
    "            with open('downloads/magic_contribution.txt', 'wt') as fh:\n",
    "                fh.write(contribution_text)\n",
    "            print(filename, 'extracted to downloads/magic_contribution.txt', '\\n')\n",
    "elif (response.status_code == 204):\n",
    "    print('Public contribution with a reference DOI = \\'{}\\' not found in MagIC'.format(reference_doi), '\\n')\n",
    "else:\n",
    "    print('Error:', response.json()['errors'][0]['message'], '\\n')\n",
    "\n",
    "# Get the contribution text for each matching contribution and print the first 200 characters\n",
    "reference_doi = '10.1016/J.EPSL.2014.12.034'\n",
    "response = requests.get(api.format('download'), params={'doi': reference_doi, 'n_max_contributions': 2})\n",
    "print(response.request.method, response.request.url)\n",
    "if (response.status_code == 200):\n",
    "    contribution_zip = zipfile.ZipFile(io.BytesIO(response.content))\n",
    "    for filename in contribution_zip.namelist():\n",
    "        if (re.match(r'^\\d+\\/magic_contribution_\\d+\\.txt', filename)):\n",
    "            contribution_text = io.TextIOWrapper(contribution_zip.open(filename)).read()\n",
    "            print(contribution_text[0:200], '\\n')\n",
    "elif (response.status_code == 204):\n",
    "    print('Public contributions with a reference DOI = \\'{}\\' not found in MagIC'.format(reference_doi), '\\n')\n",
    "else:\n",
    "    print('Error:', response.json()['errors'][0]['message'], '\\n')"
   ]
  },
  {
   "cell_type": "markdown",
   "metadata": {},
   "source": [
    "### Get the 50 latest public sites in MagIC that mention basalt or sandstone"
   ]
  },
  {
   "cell_type": "code",
   "execution_count": null,
   "metadata": {
    "tags": []
   },
   "outputs": [],
   "source": [
    "# Get the matching sites rows into a Pandas dataframe\n",
    "response = requests.get(api.format('search/sites'), params={'query': 'basalt OR sandstone', 'n_max_rows': 50})\n",
    "print(response.request.method, response.request.url)\n",
    "if (response.status_code == 200):\n",
    "    sites = response.json()['results']\n",
    "elif (response.status_code == 204):\n",
    "    print('No sites in MagIC match the search parameters.', '\\n')\n",
    "else:\n",
    "    print('Error:', response.json()['errors'][0]['message'], '\\n')\n",
    "\n",
    "sites_df = pandas.DataFrame(sites)\n",
    "sites_df.head(50)"
   ]
  }
 ],
 "metadata": {
  "kernelspec": {
   "display_name": "Python 3.8.5 64-bit ('.env': venv)",
   "language": "python",
   "name": "python_defaultSpec_1598329725542"
  },
  "language_info": {
   "codemirror_mode": {
    "name": "ipython",
    "version": 3
   },
   "file_extension": ".py",
   "mimetype": "text/x-python",
   "name": "python",
   "nbconvert_exporter": "python",
   "pygments_lexer": "ipython3",
   "version": "3.8.5-final"
  }
 },
 "nbformat": 4,
 "nbformat_minor": 4
}