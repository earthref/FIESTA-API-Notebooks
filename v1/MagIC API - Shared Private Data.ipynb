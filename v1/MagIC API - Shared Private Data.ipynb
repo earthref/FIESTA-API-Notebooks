{
 "cells": [
  {
   "cell_type": "code",
   "execution_count": 1,
   "metadata": {},
   "outputs": [],
   "source": [
    "import os, requests, pandas, dotenv\n",
    "\n",
    "dotenv.load_dotenv('../.env')\n",
    "\n",
    "api = os.getenv('MAGIC_API') or 'https://api.earthref.org/v1/MagIC/{}'\n",
    "print(api)\n",
    "\n",
    "contribution_id = 16938\n",
    "private_key = 'c6d8af03-a61c-442d-a4b0-b5ab30cd6ce2'"
   ]
  },
  {
   "cell_type": "markdown",
   "metadata": {},
   "source": [
    "### Given a private MagIC contribution ID and private key, retrieve a shared MagIC contribution text string"
   ]
  },
  {
   "cell_type": "code",
   "execution_count": 2,
   "metadata": {
    "tags": []
   },
   "outputs": [
    {
     "name": "stdout",
     "output_type": "stream",
     "text": [
      "GET https://api.earthref.org/v1/MagIC/data?id=16938&key=c6d8af03-a61c-442d-a4b0-b5ab30cd6ce2\n",
      "Contribution ID and/or private key do not match any contributions in MagIC. \n",
      "\n"
     ]
    }
   ],
   "source": [
    "shared_contribution_response = requests.get(api.format('data'), params={'id': contribution_id, 'key': private_key})\n",
    "print(shared_contribution_response.request.method, shared_contribution_response.request.url)\n",
    "if (shared_contribution_response.status_code == 200):\n",
    "    shared_contribution_text = shared_contribution_response.text\n",
    "    print(shared_contribution_text[0:200], '\\n')\n",
    "elif (shared_contribution_response.status_code == 204):\n",
    "    print('Contribution ID and/or private key do not match any contributions in MagIC.', '\\n')\n",
    "else:\n",
    "    print('Error:', shared_contribution_response.json()['errors'][0]['message'], '\\n')"
   ]
  },
  {
   "cell_type": "markdown",
   "metadata": {},
   "source": [
    "### Given a private MagIC contribution ID and private key, convert the sites of a shared MagIC contribution JSON object into a pandas DataFrame"
   ]
  },
  {
   "cell_type": "code",
   "execution_count": 5,
   "metadata": {
    "tags": []
   },
   "outputs": [
    {
     "name": "stdout",
     "output_type": "stream",
     "text": [
      "GET https://api.earthref.org/v1/MagIC/data?id=16938&key=c6d8af03-a61c-442d-a4b0-b5ab30cd6ce2\n",
      "Contribution ID and/or private key do not match any contributions in MagIC. \n",
      "\n"
     ]
    },
    {
     "data": {
      "text/html": [
       "<div>\n",
       "<style scoped>\n",
       "    .dataframe tbody tr th:only-of-type {\n",
       "        vertical-align: middle;\n",
       "    }\n",
       "\n",
       "    .dataframe tbody tr th {\n",
       "        vertical-align: top;\n",
       "    }\n",
       "\n",
       "    .dataframe thead th {\n",
       "        text-align: right;\n",
       "    }\n",
       "</style>\n",
       "<table border=\"1\" class=\"dataframe\">\n",
       "  <thead>\n",
       "    <tr style=\"text-align: right;\">\n",
       "      <th></th>\n",
       "    </tr>\n",
       "  </thead>\n",
       "  <tbody>\n",
       "  </tbody>\n",
       "</table>\n",
       "</div>"
      ],
      "text/plain": [
       "Empty DataFrame\n",
       "Columns: []\n",
       "Index: []"
      ]
     },
     "execution_count": 5,
     "metadata": {},
     "output_type": "execute_result"
    }
   ],
   "source": [
    "shared_contribution_response = requests.get(api.format('data'), params={'id': contribution_id, 'key': private_key}, headers={'accept': 'application/json'})\n",
    "print(shared_contribution_response.request.method, shared_contribution_response.request.url)\n",
    "\n",
    "sites = []\n",
    "if (shared_contribution_response.status_code == 200):\n",
    "    sites = shared_contribution_response.json()['sites']\n",
    "elif (shared_contribution_response.status_code == 204):\n",
    "    print('Contribution ID and/or private key do not match any contributions in MagIC.', '\\n')\n",
    "else:\n",
    "    print('Error:', shared_contribution_response.json()['errors'][0]['message'], '\\n')\n",
    "\n",
    "sites_df = pandas.DataFrame(sites)\n",
    "sites_df.head(50)"
   ]
  },
  {
   "cell_type": "markdown",
   "metadata": {},
   "source": [
    "### Given a private MagIC contribution ID without a private key, fail to retrieve the contribution"
   ]
  },
  {
   "cell_type": "code",
   "execution_count": 6,
   "metadata": {
    "tags": []
   },
   "outputs": [
    {
     "name": "stdout",
     "output_type": "stream",
     "text": [
      "GET https://api.earthref.org/v1/MagIC/data?id=16938\n",
      "Response status: 204\n"
     ]
    }
   ],
   "source": [
    "response = requests.get(api.format('data'), params={'id': contribution_id})\n",
    "print(response.request.method, response.request.url)\n",
    "print('Response status:', response.status_code) # 204 = No Content"
   ]
  },
  {
   "cell_type": "markdown",
   "metadata": {},
   "source": [
    "### Given a private key without a MagIC contribution ID, fail to retrieve the contribution"
   ]
  },
  {
   "cell_type": "code",
   "execution_count": 7,
   "metadata": {
    "tags": []
   },
   "outputs": [
    {
     "name": "stdout",
     "output_type": "stream",
     "text": [
      "GET https://api.earthref.org/v1/MagIC/data?key=c6d8af03-a61c-442d-a4b0-b5ab30cd6ce2\n",
      "Error: A contribution ID is required when requesting data from a shared contribution with a private key. \n",
      "\n"
     ]
    }
   ],
   "source": [
    "response = requests.get(api.format('data'), params={'key': private_key})\n",
    "print(response.request.method, response.request.url)\n",
    "print('Error:', response.json()['errors'][0]['message'], '\\n')"
   ]
  },
  {
   "cell_type": "markdown",
   "metadata": {},
   "source": [
    "### Given neither a private key nor a MagIC contribution ID, fail to retrieve the contribution"
   ]
  },
  {
   "cell_type": "code",
   "execution_count": 8,
   "metadata": {
    "tags": []
   },
   "outputs": [
    {
     "name": "stdout",
     "output_type": "stream",
     "text": [
      "GET https://api.earthref.org/v1/MagIC/data\n",
      "Error: A contribution ID is required when requesting data from a public contribution. \n",
      "\n"
     ]
    }
   ],
   "source": [
    "response = requests.get(api.format('data'))\n",
    "print(response.request.method, response.request.url)\n",
    "print('Error:', response.json()['errors'][0]['message'], '\\n')"
   ]
  }
 ],
 "metadata": {
  "interpreter": {
   "hash": "cf64e5360b9655d27294d6893b84d981996c853fc63387bd84e9c3125dfb7692"
  },
  "kernelspec": {
   "display_name": "Python 3.8.5 64-bit ('.env': venv)",
   "language": "python",
   "name": "python3"
  },
  "language_info": {
   "codemirror_mode": {
    "name": "ipython",
    "version": 3
   },
   "file_extension": ".py",
   "mimetype": "text/x-python",
   "name": "python",
   "nbconvert_exporter": "python",
   "pygments_lexer": "ipython3",
   "version": "3.9.0"
  }
 },
 "nbformat": 4,
 "nbformat_minor": 4
}
