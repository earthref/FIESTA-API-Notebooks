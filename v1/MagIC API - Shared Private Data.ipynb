{
 "cells": [
  {
   "cell_type": "code",
   "execution_count": null,
   "metadata": {},
   "outputs": [],
   "source": [
    "import requests, pandas\n",
    "\n",
    "api = 'https://api.earthref.org/v1/MagIC/{}'\n",
    "\n",
    "contribution_id = 16938\n",
    "private_key = 'c6d8af03-a61c-442d-a4b0-b5ab30cd6ce2'"
   ]
  },
  {
   "cell_type": "markdown",
   "metadata": {},
   "source": [
    "### Given a private MagIC contribution ID and private key, retrieve a shared MagIC contribution text string"
   ]
  },
  {
   "cell_type": "code",
   "execution_count": null,
   "metadata": {
    "tags": []
   },
   "outputs": [],
   "source": [
    "shared_contribution_response = requests.get(api.format('data'), params={'id': contribution_id, 'key': private_key})\n",
    "print(shared_contribution_response.request.method, shared_contribution_response.request.url)\n",
    "if (shared_contribution_response.status_code == 200):\n",
    "    shared_contribution_text = shared_contribution_response.text\n",
    "    print(shared_contribution_text[0:200], '\\n')\n",
    "elif (shared_contribution_response.status_code == 204):\n",
    "    print('Contribution ID and/or private key do not match any contributions in MagIC.', '\\n')\n",
    "else:\n",
    "    print('Error:', shared_contribution_response.json()['errors'][0]['message'], '\\n')"
   ]
  },
  {
   "cell_type": "markdown",
   "metadata": {},
   "source": [
    "### Given a private MagIC contribution ID and private key, convert the sites of a shared MagIC contribution JSON object into a pandas DataFrame"
   ]
  },
  {
   "cell_type": "code",
   "execution_count": null,
   "metadata": {
    "tags": []
   },
   "outputs": [],
   "source": [
    "shared_contribution_response = requests.get(api.format('data'), params={'id': contribution_id, 'key': private_key}, headers={'accept': 'application/json'})\n",
    "print(shared_contribution_response.request.method, shared_contribution_response.request.url)\n",
    "if (shared_contribution_response.status_code == 200):\n",
    "    sites = shared_contribution_response.json()['sites']\n",
    "elif (shared_contribution_response.status_code == 204):\n",
    "    print('Contribution ID and/or private key do not match any contributions in MagIC.', '\\n')\n",
    "else:\n",
    "    print('Error:', shared_contribution_response.json()['errors'][0]['message'], '\\n')\n",
    "\n",
    "sites_df = pandas.DataFrame(sites)\n",
    "sites_df.head(50)"
   ]
  },
  {
   "cell_type": "markdown",
   "metadata": {},
   "source": [
    "### Given a private MagIC contribution ID without a private key, fail to retrieve the contribution"
   ]
  },
  {
   "cell_type": "code",
   "execution_count": null,
   "metadata": {
    "tags": []
   },
   "outputs": [],
   "source": [
    "response = requests.get(api.format('data'), params={'id': contribution_id})\n",
    "print(response.request.method, response.request.url)\n",
    "print('Response status:', response.status_code) # 204 = No Content"
   ]
  },
  {
   "cell_type": "markdown",
   "metadata": {},
   "source": [
    "### Given a private key without a MagIC contribution ID, fail to retrieve the contribution"
   ]
  },
  {
   "cell_type": "code",
   "execution_count": null,
   "metadata": {
    "tags": []
   },
   "outputs": [],
   "source": [
    "response = requests.get(api.format('data'), params={'key': private_key})\n",
    "print(response.request.method, response.request.url)\n",
    "print('Error:', response.json()['errors'][0]['message'], '\\n')"
   ]
  },
  {
   "cell_type": "markdown",
   "metadata": {},
   "source": [
    "### Given neither a private key nor a MagIC contribution ID, fail to retrieve the contribution"
   ]
  },
  {
   "cell_type": "code",
   "execution_count": null,
   "metadata": {
    "tags": []
   },
   "outputs": [],
   "source": [
    "response = requests.get(api.format('data'))\n",
    "print(response.request.method, response.request.url)\n",
    "print('Error:', response.json()['errors'][0]['message'], '\\n')"
   ]
  }
 ],
 "metadata": {
  "kernelspec": {
   "display_name": "Python 3.8.5 64-bit ('.env': venv)",
   "language": "python",
   "name": "python_defaultSpec_1598329443197"
  },
  "language_info": {
   "codemirror_mode": {
    "name": "ipython",
    "version": 3
   },
   "file_extension": ".py",
   "mimetype": "text/x-python",
   "name": "python",
   "nbconvert_exporter": "python",
   "pygments_lexer": "ipython3",
   "version": "3.8.5-final"
  }
 },
 "nbformat": 4,
 "nbformat_minor": 4
}