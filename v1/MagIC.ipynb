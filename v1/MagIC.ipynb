{
 "cells": [
  {
   "cell_type": "markdown",
   "metadata": {},
   "source": [
    "### Get the latest public contribution text file in MagIC"
   ]
  },
  {
   "cell_type": "code",
   "execution_count": 1,
   "metadata": {},
   "outputs": [
    {
     "name": "stdout",
     "output_type": "stream",
     "text": "b'tab delimited\\tcontribution\\nid\\tversion\\ttimestamp\\tcontributor\\tdata_model_version\\treference\\n16761\\t2\\t2020-02-23T23:03:45.034Z\\t@ltauxe\\t3.0\\t10.1016/J.EPSL.2014.12.034\\n>>>>>>>>>>\\ntab delimited\\tlocations\\nlocation\\tlocation_type\\tcitations\\texpedition_name\\texpedition_ship\\texpedition_leg\\texpedition_url\\tgeologic_classes\\tlithologies\\ttectonic_settings\\tlat_s\\tlat_n\\tlon_w\\tlon_e\\tcontinent_ocean\\tregion\\tage_low\\tage_high\\tage_unit\\nU1361A\\tDrill Site\\tThis study\\t318\\tJOIDES Resolution\\t318\\thttp://publications.iodp.org/proceedings/318/318toc.htm\\tSedimentary\\tSilicate Clay:Silty Clay\\tContinental Shelf\\t-64.2457\\t-64.2457\\t143.532\\t143.532\\tIndian Ocean\\tWilkes Land Margin\\t0\\t12\\tma\\n>>>>>>>>>>\\ntab delimited\\tsites\\nsite\\tlocation\\tresult_type\\tresult_quality\\tmethod_codes\\tcitations\\tgeologic_classes\\tgeologic_types\\tlithologies\\tlat\\tlon\\tcore_depth\\tage_low\\tage_high\\tage_unit\\texternal_results\\n318-U1361A-001H-2-W-35\\tU1361A\\ti\\tg\\tSO-V:FS-C-DRILL-IODP\\tThis study\\tSedimentary\\tSediment Layer\\tNot Specified\\t-64.2457\\t143.532\\t1.85\\t0\\t13\\tMa\\t\\n318-U1361A'\n"
    }
   ],
   "source": [
    "import requests\n",
    "\n",
    "# Get the ID for the latest public MagIC contribution\n",
    "contributions_response = requests.get(\n",
    "    'https://api.earthref.org/v1/MagIC/search/contributions?size=1',\n",
    "    headers={'Accept': 'application/json'}\n",
    ")\n",
    "latest_contribution_id = contributions_response.json()['results'][0]['id']\n",
    "\n",
    "# Get the contribution text for the ID and print the first 1000 characters\n",
    "latest_contribution_text = requests.get(\n",
    "    'https://api.earthref.org/v1/MagIC/contribution/' + str(latest_contribution_id),\n",
    "    headers={'Accept': 'text/plain'}\n",
    ")\n",
    "print(latest_contribution_text.content[0:1000])"
   ]
  },
  {
   "cell_type": "markdown",
   "metadata": {},
   "source": [
    "### Download a public contribution text file in MagIC by DOI"
   ]
  },
  {
   "cell_type": "code",
   "execution_count": 2,
   "metadata": {},
   "outputs": [
    {
     "name": "stdout",
     "output_type": "stream",
     "text": "b'tab delimited\\tcontribution\\nid\\tversion\\ttimestamp\\tcontributor\\tdata_model_version\\treference\\n16761\\t2\\t2020-02-23T23:03:45.034Z\\t@ltauxe\\t3.0\\t10.1016/J.EPSL.2014.12.034\\n>>>>>>>>>>\\ntab delimited\\tlocations\\nlocation\\tlocation_type\\tcitations\\texpedition_name\\texpedition_ship\\texpedition_leg\\texpedition_url\\tgeologic_classes\\tlithologies\\ttectonic_settings\\tlat_s\\tlat_n\\tlon_w\\tlon_e\\tcontinent_ocean\\tregion\\tage_low\\tage_high\\tage_unit\\nU1361A\\tDrill Site\\tThis study\\t318\\tJOIDES Resolution\\t318\\thttp://publications.iodp.org/proceedings/318/318toc.htm\\tSedimentary\\tSilicate Clay:Silty Clay\\tContinental Shelf\\t-64.2457\\t-64.2457\\t143.532\\t143.532\\tIndian Ocean\\tWilkes Land Margin\\t0\\t12\\tma\\n>>>>>>>>>>\\ntab delimited\\tsites\\nsite\\tlocation\\tresult_type\\tresult_quality\\tmethod_codes\\tcitations\\tgeologic_classes\\tgeologic_types\\tlithologies\\tlat\\tlon\\tcore_depth\\tage_low\\tage_high\\tage_unit\\texternal_results\\n318-U1361A-001H-2-W-35\\tU1361A\\ti\\tg\\tSO-V:FS-C-DRILL-IODP\\tThis study\\tSedimentary\\tSediment Layer\\tNot Specified\\t-64.2457\\t143.532\\t1.85\\t0\\t13\\tMa\\t\\n318-U1361A'\n"
    }
   ],
   "source": [
    "import requests\n",
    "\n",
    "# Download the contribution text for the DOI and print the first 1000 characters\n",
    "contribution_text = requests.post(\n",
    "    'https://api.earthref.org/v1/MagIC/download',\n",
    "    data={'doi': '10.1016/J.EPSL.2014.12.034'},\n",
    "    headers={'Accept': 'text/plain'}\n",
    ")\n",
    "print(contribution_text.content[0:1000])"
   ]
  },
  {
   "cell_type": "markdown",
   "metadata": {},
   "source": [
    "### Get the 50 latest public sites in MagIC that mention \"devonian\""
   ]
  },
  {
   "cell_type": "code",
   "execution_count": 3,
   "metadata": {},
   "outputs": [
    {
     "data": {
      "text/html": "<div>\n<style scoped>\n    .dataframe tbody tr th:only-of-type {\n        vertical-align: middle;\n    }\n\n    .dataframe tbody tr th {\n        vertical-align: top;\n    }\n\n    .dataframe thead th {\n        text-align: right;\n    }\n</style>\n<table border=\"1\" class=\"dataframe\">\n  <thead>\n    <tr style=\"text-align: right;\">\n      <th></th>\n      <th>vgp_lat</th>\n      <th>lon</th>\n      <th>geologic_types</th>\n      <th>formation</th>\n      <th>dir_k</th>\n      <th>method_codes</th>\n      <th>geologic_classes</th>\n      <th>vgp_lon</th>\n      <th>vgp_dm</th>\n      <th>citations</th>\n      <th>...</th>\n      <th>dir_tilt_correction</th>\n      <th>dir_nrm_origin</th>\n      <th>result_quality</th>\n      <th>age</th>\n      <th>description</th>\n      <th>age_sigma</th>\n      <th>int_abs</th>\n      <th>external_database_ids</th>\n      <th>dir_r</th>\n      <th>int_abs_sigma</th>\n    </tr>\n  </thead>\n  <tbody>\n    <tr>\n      <th>0</th>\n      <td>-29.2</td>\n      <td>109.28</td>\n      <td>sediment layer</td>\n      <td>Yuntaiguan Formation</td>\n      <td>100.6</td>\n      <td>DE-BFL-A</td>\n      <td>sedimentary</td>\n      <td>49.6</td>\n      <td>6.8</td>\n      <td>10.1029/2019GL083123</td>\n      <td>...</td>\n      <td>100</td>\n      <td>p</td>\n      <td>g</td>\n      <td>385</td>\n      <td>NaN</td>\n      <td>NaN</td>\n      <td>NaN</td>\n      <td>NaN</td>\n      <td>NaN</td>\n      <td>NaN</td>\n    </tr>\n    <tr>\n      <th>1</th>\n      <td>-31.1</td>\n      <td>109.28</td>\n      <td>sediment layer</td>\n      <td>Yuntaiguan Formation</td>\n      <td>32</td>\n      <td>DE-BFL-A</td>\n      <td>sedimentary</td>\n      <td>52.3</td>\n      <td>11</td>\n      <td>10.1029/2019GL083123</td>\n      <td>...</td>\n      <td>100</td>\n      <td>p</td>\n      <td>g</td>\n      <td>385</td>\n      <td>NaN</td>\n      <td>NaN</td>\n      <td>NaN</td>\n      <td>NaN</td>\n      <td>NaN</td>\n      <td>NaN</td>\n    </tr>\n    <tr>\n      <th>2</th>\n      <td>-28.9</td>\n      <td>109.28</td>\n      <td>sediment layer</td>\n      <td>Yuntaiguan Formation</td>\n      <td>34.5</td>\n      <td>DE-BFL-A</td>\n      <td>sedimentary</td>\n      <td>48.2</td>\n      <td>11.8</td>\n      <td>10.1029/2019GL083123</td>\n      <td>...</td>\n      <td>100</td>\n      <td>p</td>\n      <td>g</td>\n      <td>385</td>\n      <td>NaN</td>\n      <td>NaN</td>\n      <td>NaN</td>\n      <td>NaN</td>\n      <td>NaN</td>\n      <td>NaN</td>\n    </tr>\n    <tr>\n      <th>3</th>\n      <td>-36</td>\n      <td>109.28</td>\n      <td>sediment layer</td>\n      <td>Yuntaiguan Formation</td>\n      <td>94.3</td>\n      <td>DE-BFL-A</td>\n      <td>sedimentary</td>\n      <td>54.5</td>\n      <td>7</td>\n      <td>10.1029/2019GL083123</td>\n      <td>...</td>\n      <td>100</td>\n      <td>p</td>\n      <td>g</td>\n      <td>385</td>\n      <td>NaN</td>\n      <td>NaN</td>\n      <td>NaN</td>\n      <td>NaN</td>\n      <td>NaN</td>\n      <td>NaN</td>\n    </tr>\n    <tr>\n      <th>4</th>\n      <td>-16.4</td>\n      <td>109.28</td>\n      <td>sediment layer</td>\n      <td>Yuntaiguan Formation</td>\n      <td>1486</td>\n      <td>DE-BFL-A</td>\n      <td>sedimentary</td>\n      <td>41.7</td>\n      <td>1.8</td>\n      <td>10.1029/2019GL083123</td>\n      <td>...</td>\n      <td>100</td>\n      <td>p</td>\n      <td>g</td>\n      <td>385</td>\n      <td>NaN</td>\n      <td>NaN</td>\n      <td>NaN</td>\n      <td>NaN</td>\n      <td>NaN</td>\n      <td>NaN</td>\n    </tr>\n  </tbody>\n</table>\n<p>5 rows × 36 columns</p>\n</div>",
      "text/plain": "  vgp_lat     lon  geologic_types             formation  dir_k method_codes  \\\n0   -29.2  109.28  sediment layer  Yuntaiguan Formation  100.6     DE-BFL-A   \n1   -31.1  109.28  sediment layer  Yuntaiguan Formation     32     DE-BFL-A   \n2   -28.9  109.28  sediment layer  Yuntaiguan Formation   34.5     DE-BFL-A   \n3     -36  109.28  sediment layer  Yuntaiguan Formation   94.3     DE-BFL-A   \n4   -16.4  109.28  sediment layer  Yuntaiguan Formation   1486     DE-BFL-A   \n\n  geologic_classes vgp_lon vgp_dm             citations  ...  \\\n0      sedimentary    49.6    6.8  10.1029/2019GL083123  ...   \n1      sedimentary    52.3     11  10.1029/2019GL083123  ...   \n2      sedimentary    48.2   11.8  10.1029/2019GL083123  ...   \n3      sedimentary    54.5      7  10.1029/2019GL083123  ...   \n4      sedimentary    41.7    1.8  10.1029/2019GL083123  ...   \n\n  dir_tilt_correction dir_nrm_origin result_quality  age description  \\\n0                 100              p              g  385         NaN   \n1                 100              p              g  385         NaN   \n2                 100              p              g  385         NaN   \n3                 100              p              g  385         NaN   \n4                 100              p              g  385         NaN   \n\n  age_sigma int_abs external_database_ids dir_r int_abs_sigma  \n0       NaN     NaN                   NaN   NaN           NaN  \n1       NaN     NaN                   NaN   NaN           NaN  \n2       NaN     NaN                   NaN   NaN           NaN  \n3       NaN     NaN                   NaN   NaN           NaN  \n4       NaN     NaN                   NaN   NaN           NaN  \n\n[5 rows x 36 columns]"
     },
     "execution_count": 3,
     "metadata": {},
     "output_type": "execute_result"
    }
   ],
   "source": [
    "import requests\n",
    "import pandas\n",
    "\n",
    "# Get the 50 latest sites in MagIC\n",
    "response = requests.get(\n",
    "    'https://api.earthref.org/v1/MagIC/search/sites',\n",
    "    params={'query': 'devonian', 'size': 50},\n",
    "    headers={'Accept': 'application/json'}\n",
    ")\n",
    "\n",
    "# Check the response status code\n",
    "if (response.status_code == 404):\n",
    "  print('Request URL is incorrect.')\n",
    "\n",
    "# Parse the JSON output into a dictionary\n",
    "json_response = response.json()\n",
    "\n",
    "# Retrieve the list of sites, of which each site may have multiple data rows\n",
    "sites = json_response['results']\n",
    "\n",
    "# Flatten the sites rows\n",
    "def flatten(listOflists):\n",
    "    return [item for sublist in listOflists for item in sublist]\n",
    "sites_rows = flatten(sites)\n",
    "\n",
    "sites_df = pandas.DataFrame(sites_rows)\n",
    "sites_df.head()"
   ]
  }
 ],
 "metadata": {
  "kernelspec": {
   "display_name": "Python 3",
   "language": "python",
   "name": "python3"
  },
  "language_info": {
   "codemirror_mode": {
    "name": "ipython",
    "version": 3
   },
   "file_extension": ".py",
   "mimetype": "text/x-python",
   "name": "python",
   "nbconvert_exporter": "python",
   "pygments_lexer": "ipython3",
   "version": "3.8.1-final"
  }
 },
 "nbformat": 4,
 "nbformat_minor": 4
}